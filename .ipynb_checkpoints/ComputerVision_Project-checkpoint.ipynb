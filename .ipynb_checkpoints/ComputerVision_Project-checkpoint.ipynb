{
 "cells": [
  {
   "cell_type": "markdown",
   "id": "6edd21b6",
   "metadata": {},
   "source": [
    "# Computer Vision"
   ]
  },
  {
   "cell_type": "markdown",
   "id": "8cf89d29",
   "metadata": {},
   "source": [
    "1. Create a Git repository to version control.\n",
    "\n",
    "2. Create a virtual environment\n",
    "\n",
    "[Instructions](https://www.freecodecamp.org/news/how-to-setup-virtual-environments-in-python/)\n",
    "\n",
    "3. Install OpenCV\n",
    "\n",
    "4. Download the pretrained model from OpenCV GitHub repository."
   ]
  },
  {
   "cell_type": "code",
   "execution_count": 1,
   "id": "1c8f4088",
   "metadata": {},
   "outputs": [],
   "source": [
    "import cv2"
   ]
  },
  {
   "cell_type": "code",
   "execution_count": 8,
   "id": "ead98b09",
   "metadata": {},
   "outputs": [
    {
     "name": "stderr",
     "output_type": "stream",
     "text": [
      "[ERROR:0@585.407] global persistence.cpp:512 open Can't open file: './haarcascade_frontalface_default.xml' in read mode\n",
      "[ WARN:0@585.407] global loadsave.cpp:248 findDecoder imread_('./test.png'): can't open/read file: check file path/integrity\n"
     ]
    }
   ],
   "source": [
    "# Load the cascade\n",
    "face_cascade = cv2.CascadeClassifier('./haarcascade_frontalface_default.xml')\n",
    "# Read the input image\n",
    "img = cv2.imread('./test.png')\n",
    "# # Convert into grayscale\n",
    "# gray = cv2.cvtColor(img, cv2.COLOR_BGR2GRAY)\n",
    "# # Detect faces\n",
    "# faces = face_cascade.detectMultiScale(gray, 1.1, 4)\n",
    "# # Draw rectangle around the faces\n",
    "# for (x, y, w, h) in faces:\n",
    "#     cv2.rectangle(img, (x, y), (x+w, y+h), (255, 0, 0), 2)\n",
    "# # Display the output\n",
    "# cv2.imshow('img', img)\n",
    "# cv2.waitKey()"
   ]
  }
 ],
 "metadata": {
  "kernelspec": {
   "display_name": "Python 3 (ipykernel)",
   "language": "python",
   "name": "python3"
  },
  "language_info": {
   "codemirror_mode": {
    "name": "ipython",
    "version": 3
   },
   "file_extension": ".py",
   "mimetype": "text/x-python",
   "name": "python",
   "nbconvert_exporter": "python",
   "pygments_lexer": "ipython3",
   "version": "3.9.13"
  }
 },
 "nbformat": 4,
 "nbformat_minor": 5
}
