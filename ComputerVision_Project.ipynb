{
 "cells": [
  {
   "cell_type": "markdown",
   "id": "6edd21b6",
   "metadata": {},
   "source": [
    "# Computer Vision"
   ]
  },
  {
   "cell_type": "markdown",
   "id": "8cf89d29",
   "metadata": {},
   "source": [
    "1. Create a Git repository to version control."
   ]
  },
  {
   "cell_type": "markdown",
   "id": "e69192d8",
   "metadata": {},
   "source": [
    "2. Create a virtual python environment\n",
    "\n",
    "[Instructions](https://www.freecodecamp.org/news/how-to-setup-virtual-environments-in-python/)"
   ]
  },
  {
   "cell_type": "markdown",
   "id": "a77a9f75",
   "metadata": {},
   "source": [
    "3. Install OpenCV"
   ]
  },
  {
   "cell_type": "markdown",
   "id": "5b053bfc",
   "metadata": {},
   "source": [
    "4. Download the trained classifier XML file from OpenCV repository"
   ]
  },
  {
   "cell_type": "markdown",
   "id": "63b65fc2",
   "metadata": {},
   "source": [
    "5. Import the OpenCV library"
   ]
  },
  {
   "cell_type": "code",
   "execution_count": null,
   "id": "02da6df3",
   "metadata": {},
   "outputs": [],
   "source": [
    "import cv2\n",
    "print(cv2.__version__)"
   ]
  },
  {
   "cell_type": "markdown",
   "id": "e5f537c2",
   "metadata": {},
   "source": [
    "## Detecting faces in images"
   ]
  },
  {
   "cell_type": "code",
   "execution_count": null,
   "id": "188dc3fa",
   "metadata": {},
   "outputs": [],
   "source": [
    "import cv2\n",
    "\n",
    "# Load the cascade\n",
    "face_cascade = cv2.CascadeClassifier('haarcascade_frontalface_default.xml')\n",
    "\n",
    "# Read the input image\n",
    "img = cv2.imread('test.png')\n",
    "\n",
    "# Convert into grayscale\n",
    "gray = cv2.cvtColor(img, cv2.COLOR_BGR2GRAY)\n",
    "\n",
    "# Detect faces\n",
    "faces = face_cascade.detectMultiScale(gray, 1.1, 4)\n",
    "\n",
    "# Draw rectangle around the faces\n",
    "for (x, y, w, h) in faces:\n",
    "    cv2.rectangle(img, (x, y), (x+w, y+h), (255, 0, 0), 2)\n",
    "    \n",
    "# Display the output\n",
    "cv2.imshow('img', img)\n",
    "cv2.waitKey()\n",
    "\n",
    "# Display the output\n",
    "cv2.imshow('img', img)\n",
    "\n",
    "while True:\n",
    "    key = cv2.waitKey(1)  # Check for a key event every 1 millisecond\n",
    "\n",
    "    if key == 27:  # Check for the Esc key (ASCII code 27)\n",
    "        break  # Exit the loop if Esc is pressed\n",
    "\n",
    "cv2.destroyAllWindows()  # Close all OpenCV windows"
   ]
  },
  {
   "cell_type": "markdown",
   "id": "c604239c",
   "metadata": {},
   "source": [
    "## Recognizing faces in video"
   ]
  },
  {
   "cell_type": "code",
   "execution_count": null,
   "id": "ca3f25fc",
   "metadata": {},
   "outputs": [],
   "source": [
    "import cv2\n",
    "\n",
    "# Load the cascade\n",
    "face_cascade = cv2.CascadeClassifier('haarcascade_frontalface_default.xml')\n",
    "\n",
    "# To capture video from webcam. \n",
    "# cap = cv2.VideoCapture(0)\n",
    "# To use a video file as input \n",
    "cap = cv2.VideoCapture('videotest.mp4')\n",
    "\n",
    "while True:\n",
    "    # Read the frame\n",
    "    _, img = cap.read()\n",
    "    # Convert to grayscale\n",
    "    gray = cv2.cvtColor(img, cv2.COLOR_BGR2GRAY)\n",
    "    # Detect the faces\n",
    "    faces = face_cascade.detectMultiScale(gray, 1.1, 4)\n",
    "    # Draw the rectangle around each face\n",
    "    for (x, y, w, h) in faces:\n",
    "        cv2.rectangle(img, (x, y), (x+w, y+h), (255, 0, 0), 2)\n",
    "    # Display\n",
    "    cv2.imshow('img', img)\n",
    "    # Stop if escape key is pressed\n",
    "    k = cv2.waitKey(30) & 0xff\n",
    "    if k==27:\n",
    "        break\n",
    "# Release the VideoCapture object\n",
    "cap.release()"
   ]
  }
 ],
 "metadata": {
  "kernelspec": {
   "display_name": "Python 3 (ipykernel)",
   "language": "python",
   "name": "python3"
  },
  "language_info": {
   "codemirror_mode": {
    "name": "ipython",
    "version": 3
   },
   "file_extension": ".py",
   "mimetype": "text/x-python",
   "name": "python",
   "nbconvert_exporter": "python",
   "pygments_lexer": "ipython3",
   "version": "3.9.13"
  }
 },
 "nbformat": 4,
 "nbformat_minor": 5
}
